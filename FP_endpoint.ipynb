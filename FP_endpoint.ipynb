{
 "cells": [
  {
   "cell_type": "markdown",
   "metadata": {},
   "source": [
    "# Инициализация данных"
   ]
  },
  {
   "cell_type": "code",
   "execution_count": 1,
   "metadata": {},
   "outputs": [
    {
     "data": {
      "text/plain": [
       "True"
      ]
     },
     "execution_count": 1,
     "metadata": {},
     "output_type": "execute_result"
    }
   ],
   "source": [
    "import os\n",
    "import pandas as pd\n",
    "\n",
    "from datetime import datetime\n",
    "from catboost import CatBoostClassifier\n",
    "from loguru import logger\n",
    "\n",
    "from dotenv import load_dotenv\n",
    "\n",
    "import hashlib\n",
    "from pydantic import BaseModel\n",
    "from typing import List\n",
    "\n",
    "load_dotenv()"
   ]
  },
  {
   "cell_type": "code",
   "execution_count": 2,
   "metadata": {},
   "outputs": [],
   "source": [
    "salt = 'get_exp_group'\n",
    "num_groups = 2"
   ]
  },
  {
   "cell_type": "code",
   "execution_count": 3,
   "metadata": {},
   "outputs": [],
   "source": [
    "# Разбиение пользователей на группы\n",
    "def get_exp_group(user_id: int) -> str:\n",
    "    exp_group = int(hashlib.md5((str(user_id) + salt).encode()).hexdigest(), 16) % num_groups\n",
    "    \n",
    "    if exp_group == 0:\n",
    "        return 'control'\n",
    "    else:\n",
    "        return 'test'"
   ]
  },
  {
   "cell_type": "code",
   "execution_count": 4,
   "metadata": {},
   "outputs": [
    {
     "data": {
      "text/plain": [
       "'control'"
      ]
     },
     "execution_count": 4,
     "metadata": {},
     "output_type": "execute_result"
    }
   ],
   "source": [
    "get_exp_group(200)"
   ]
  },
  {
   "cell_type": "code",
   "execution_count": 5,
   "metadata": {},
   "outputs": [
    {
     "name": "stderr",
     "output_type": "stream",
     "text": [
      "/Users/dmitry/anaconda3/envs/ml/lib/python3.11/site-packages/pydantic/_internal/_config.py:322: UserWarning: Valid config keys have changed in V2:\n",
      "* 'orm_mode' has been renamed to 'from_attributes'\n",
      "  warnings.warn(message, UserWarning)\n"
     ]
    }
   ],
   "source": [
    "class PostGet(BaseModel):\n",
    "    id: int\n",
    "    text: str\n",
    "    topic: str\n",
    "    \n",
    "    class Config:\n",
    "        orm_mode = True\n",
    "\n",
    "class Response(BaseModel):\n",
    "    exp_group: str\n",
    "    recommendations: List[PostGet]"
   ]
  },
  {
   "cell_type": "code",
   "execution_count": 6,
   "metadata": {},
   "outputs": [],
   "source": [
    "# Путь модели\n",
    "def get_model_path(model_name: str) -> str:\n",
    "    if os.environ.get(\"IS_LMS\") == \"1\":\n",
    "        if model_name == 'model_control':\n",
    "            MODEL_PATH = '/workdir/user_input/model_control'\n",
    "        elif model_name == 'model_test':\n",
    "            MODEL_PATH = '/workdir/user_input/model_test'\n",
    "        else:\n",
    "            raise ValueError('unknown name')\n",
    "    \n",
    "    else:\n",
    "        if model_name == 'model_control':\n",
    "            MODEL_PATH = '/Users/dmitry/Documents/code/Start_ML/module_2/final_project/model/catboost_ml_1'\n",
    "        elif model_name == 'model_test':\n",
    "            MODEL_PATH = '/Users/dmitry/Documents/code/Start_ML/module_2/final_project/model/catboost_dl_3'\n",
    "        else:\n",
    "            raise ValueError('unknown name')\n",
    "    return MODEL_PATH\n",
    "\n",
    "\n",
    "# Загрузка модели\n",
    "def load_models(model_name: str):\n",
    "    model_path = get_model_path(model_name)\n",
    "\n",
    "    from_file = CatBoostClassifier()\n",
    "    model = from_file.load_model(model_path, format='cbm')\n",
    "    return model\n",
    "\n",
    "# Основная функция загрузки признаков из БД\n",
    "def load_features():\n",
    "    # Признаки по постам (созданные) TF-IDF\n",
    "    logger.info(\"loading tf-idf post feachures\")\n",
    "    post_feachures_control = pd.read_sql(\n",
    "        \"\"\"\n",
    "        SELECT *\n",
    "        FROM d_trubitsin_post_feachures_base \n",
    "        \"\"\",\n",
    "        con=os.environ[\"POSTGRES_CONN\"]\n",
    "    )\n",
    "\n",
    "    # Признаки по постам (созданные) DL\n",
    "    logger.info(\"loading dl post feachures\")\n",
    "    post_feachures_test = pd.read_sql(\n",
    "        \"\"\"\n",
    "        SELECT *\n",
    "        FROM d_trubitsin_post_feachures_dl \n",
    "        \"\"\",\n",
    "        con=os.environ[\"POSTGRES_CONN\"]\n",
    "    )\n",
    "\n",
    "    # Признаки по пользователям\n",
    "    logger.info(\"loading user feachures\")\n",
    "    user_feachures = pd.read_sql(\n",
    "        \"\"\"\n",
    "        SELECT *\n",
    "        FROM public.user_data\n",
    "        \"\"\",\n",
    "        con=os.environ[\"POSTGRES_CONN\"]\n",
    "    )\n",
    "    return [post_feachures_control, post_feachures_test, user_feachures]"
   ]
  },
  {
   "cell_type": "code",
   "execution_count": 7,
   "metadata": {},
   "outputs": [
    {
     "name": "stderr",
     "output_type": "stream",
     "text": [
      "\u001b[32m2024-04-17 21:12:21.147\u001b[0m | \u001b[1mINFO    \u001b[0m | \u001b[36m__main__\u001b[0m:\u001b[36m<module>\u001b[0m:\u001b[36m1\u001b[0m - \u001b[1mloading model\u001b[0m\n"
     ]
    }
   ],
   "source": [
    "logger.info(\"loading model\")\n",
    "model_control = load_models(\"model_control\")\n",
    "model_test = load_models(\"model_test\")"
   ]
  },
  {
   "cell_type": "code",
   "execution_count": 10,
   "metadata": {},
   "outputs": [
    {
     "name": "stderr",
     "output_type": "stream",
     "text": [
      "\u001b[32m2024-04-17 21:12:29.236\u001b[0m | \u001b[1mINFO    \u001b[0m | \u001b[36m__main__\u001b[0m:\u001b[36m<module>\u001b[0m:\u001b[36m1\u001b[0m - \u001b[1mloading feachures\u001b[0m\n",
      "\u001b[32m2024-04-17 21:12:29.237\u001b[0m | \u001b[1mINFO    \u001b[0m | \u001b[36m__main__\u001b[0m:\u001b[36mload_features\u001b[0m:\u001b[36m32\u001b[0m - \u001b[1mloading tf-idf post feachures\u001b[0m\n",
      "\u001b[32m2024-04-17 21:12:33.385\u001b[0m | \u001b[1mINFO    \u001b[0m | \u001b[36m__main__\u001b[0m:\u001b[36mload_features\u001b[0m:\u001b[36m42\u001b[0m - \u001b[1mloading dl post feachures\u001b[0m\n",
      "\u001b[32m2024-04-17 21:12:37.097\u001b[0m | \u001b[1mINFO    \u001b[0m | \u001b[36m__main__\u001b[0m:\u001b[36mload_features\u001b[0m:\u001b[36m52\u001b[0m - \u001b[1mloading user feachures\u001b[0m\n",
      "\u001b[32m2024-04-17 21:12:41.350\u001b[0m | \u001b[1mINFO    \u001b[0m | \u001b[36m__main__\u001b[0m:\u001b[36m<module>\u001b[0m:\u001b[36m3\u001b[0m - \u001b[1mservice is up and running\u001b[0m\n"
     ]
    }
   ],
   "source": [
    "logger.info(\"loading feachures\")\n",
    "feachures = load_features()\n",
    "logger.info(\"service is up and running\")"
   ]
  },
  {
   "cell_type": "markdown",
   "metadata": {},
   "source": [
    "# Работа endpoint"
   ]
  },
  {
   "cell_type": "code",
   "execution_count": 11,
   "metadata": {},
   "outputs": [],
   "source": [
    "id = 2001\n",
    "time = datetime(year=2021, month=11, day=3, hour=14)\n",
    "limit = 5"
   ]
  },
  {
   "cell_type": "code",
   "execution_count": 12,
   "metadata": {},
   "outputs": [],
   "source": [
    "def get_recommendations(id, time, model, post_feachures, user_feachures):\n",
    "   \n",
    "    # Признаки пользователя\n",
    "    logger.info(f\"user_id: {id}\")\n",
    "    logger.info(\"reading feachures\")\n",
    "    user_feach = user_feachures.loc[user_feachures[\"user_id\"] == id].copy()\n",
    "    user_feach.drop(['user_id', 'os', 'source'], axis=1, inplace=True)\n",
    "\n",
    "    # Признаки постов\n",
    "    logger.info(\"dropping columns\")\n",
    "    post_feach = post_feachures.drop([\"index\", \"text\"], axis=1)\n",
    "    content = post_feachures[[\"post_id\", \"text\", \"topic\"]]\n",
    "\n",
    "    # Объединение признаков\n",
    "    logger.info(\"zipping everything\")\n",
    "    add_user_feachures = dict(\n",
    "        zip(user_feach.columns, user_feach.values[0]))\n",
    "    request_data = post_feach.assign(**add_user_feachures)\n",
    "    request_data = request_data.set_index('post_id')\n",
    "\n",
    "    # Добавление даты\n",
    "    logger.info(\"adding time info\")\n",
    "    request_data['weekday'] = time.weekday()\n",
    "    request_data['hour'] = time.hour\n",
    "\n",
    "    # Предсказание вероятности для 1 класса (вероятнее всего понравится)\n",
    "    logger.info(\"predicting\")\n",
    "    probabilities = model.predict_proba(request_data)[:, 1]\n",
    "    request_data['prediction'] = probabilities\n",
    "\n",
    "    # Получение топ-5 индексов вероятностей\n",
    "    recommended_posts = request_data.sort_values(\"prediction\")[-limit:].index\n",
    "\n",
    "    return [PostGet(**{\n",
    "        'id': i,\n",
    "        'text': content[content['post_id'] == i]['text'].values[0],\n",
    "        'topic': content[content['post_id'] == i]['topic'].values[0]\n",
    "        }) for i in recommended_posts]\n"
   ]
  },
  {
   "cell_type": "code",
   "execution_count": 15,
   "metadata": {},
   "outputs": [],
   "source": [
    "def recommended_posts(id, time):\n",
    "    # Отнесение пользователя к группе\n",
    "    logger.info('getting exp group')\n",
    "    exp_group = get_exp_group(id)\n",
    "    logger.info(f\"User '{id}' assigned to '{exp_group}'\")\n",
    "\n",
    "    if exp_group == 'control':\n",
    "        recommendations = get_recommendations(id, time, model_control, feachures[0], feachures[2])\n",
    "    elif exp_group == 'test':\n",
    "        recommendations = get_recommendations(id, time, model_test, feachures[1], feachures[2])\n",
    "    else:\n",
    "        raise ValueError('unknown group')\n",
    "    \n",
    "    return Response(exp_group=exp_group, recommendations=recommendations).model_dump_json()"
   ]
  },
  {
   "cell_type": "code",
   "execution_count": 16,
   "metadata": {},
   "outputs": [
    {
     "name": "stderr",
     "output_type": "stream",
     "text": [
      "\u001b[32m2024-04-17 21:13:28.150\u001b[0m | \u001b[1mINFO    \u001b[0m | \u001b[36m__main__\u001b[0m:\u001b[36mrecommended_posts\u001b[0m:\u001b[36m3\u001b[0m - \u001b[1mgetting exp group\u001b[0m\n",
      "\u001b[32m2024-04-17 21:13:28.151\u001b[0m | \u001b[1mINFO    \u001b[0m | \u001b[36m__main__\u001b[0m:\u001b[36mrecommended_posts\u001b[0m:\u001b[36m5\u001b[0m - \u001b[1mUser '2001' assigned to 'control'\u001b[0m\n",
      "\u001b[32m2024-04-17 21:13:28.153\u001b[0m | \u001b[1mINFO    \u001b[0m | \u001b[36m__main__\u001b[0m:\u001b[36mget_recommendations\u001b[0m:\u001b[36m4\u001b[0m - \u001b[1muser_id: 2001\u001b[0m\n",
      "\u001b[32m2024-04-17 21:13:28.154\u001b[0m | \u001b[1mINFO    \u001b[0m | \u001b[36m__main__\u001b[0m:\u001b[36mget_recommendations\u001b[0m:\u001b[36m5\u001b[0m - \u001b[1mreading feachures\u001b[0m\n",
      "\u001b[32m2024-04-17 21:13:28.156\u001b[0m | \u001b[1mINFO    \u001b[0m | \u001b[36m__main__\u001b[0m:\u001b[36mget_recommendations\u001b[0m:\u001b[36m10\u001b[0m - \u001b[1mdropping columns\u001b[0m\n",
      "\u001b[32m2024-04-17 21:13:28.159\u001b[0m | \u001b[1mINFO    \u001b[0m | \u001b[36m__main__\u001b[0m:\u001b[36mget_recommendations\u001b[0m:\u001b[36m15\u001b[0m - \u001b[1mzipping everything\u001b[0m\n",
      "\u001b[32m2024-04-17 21:13:28.165\u001b[0m | \u001b[1mINFO    \u001b[0m | \u001b[36m__main__\u001b[0m:\u001b[36mget_recommendations\u001b[0m:\u001b[36m22\u001b[0m - \u001b[1madding time info\u001b[0m\n",
      "\u001b[32m2024-04-17 21:13:28.178\u001b[0m | \u001b[1mINFO    \u001b[0m | \u001b[36m__main__\u001b[0m:\u001b[36mget_recommendations\u001b[0m:\u001b[36m26\u001b[0m - \u001b[1m['topic', 'TextCluster', 'DistanceTo1thCluster', 'DistanceTo2thCluster', 'DistanceTo3thCluster', 'DistanceTo4thCluster', 'DistanceTo5thCluster', 'DistanceTo6thCluster', 'DistanceTo7thCluster', 'DistanceTo8thCluster', 'DistanceTo9thCluster', 'DistanceTo10thCluster', 'gender', 'age', 'country', 'city', 'exp_group', 'weekday', 'hour']\u001b[0m\n",
      "\u001b[32m2024-04-17 21:13:28.216\u001b[0m | \u001b[1mINFO    \u001b[0m | \u001b[36m__main__\u001b[0m:\u001b[36mget_recommendations\u001b[0m:\u001b[36m29\u001b[0m - \u001b[1mpredicting\u001b[0m\n"
     ]
    },
    {
     "data": {
      "text/plain": [
       "'{\"exp_group\":\"control\",\"recommendations\":[{\"id\":6713,\"text\":\"The Seven-Ups is a good and engrossing film. Its packed with credible performances by Scheider, LaBianco and an effective scary performance by Richard Lynch - although most of the characters are card-board cut-out tough guys. Character development does not evolve at all on the screen. The only thing we know is the good guys are the good guys and the bad guys are bad. Deviating from the crime story norm, The Seven-Ups manage to throw Scheider and crew into the middle of a building plot in a unique writing twist. Onsite locations of New York City and an excellent choreographed car chase highlight the film. The only downside of the film is the slightly confusing plot line in the beginning. They give the viewer little evidence that the men being kidnapped are mob related (until later in the film). Had someone blindly started watching the film may be slightly confused on the story. Otherwise, The Seven-Ups is a gritty, testosterone-filled enjoyable time.\",\"topic\":\"movie\"},{\"id\":3612,\"text\":\"Crazy and Sensible Views on the COVID-19 Pandemic https://t.co/92hB6nPVXv  #Coronavirus #COVID19\",\"topic\":\"covid\"},{\"id\":5782,\"text\":\"This film is one of Tom Cruises finest films. He captures the audiences imaginations with his role of David Aames. His character can relate to us all in some way.The story line is very clever and keeps the audience on edge throughout the whole film. I never really watched Cruise movies that much before but after seeing this it shows me his true talent. My favourite part in the movie is the end where it all comes to a big conclusion and he find out the truth. If you have not seen this yet you definitely should give it a try. Its one of those films that once youve started watching it you just got to see it until the end or it will keep you thinking and you will regret it. My opinion is you should just go buy it and take a risk thats what I did and it became one of my favourite films of all time. Its A* 10/10 I promise once you watch it, it will stick with you and you will like it forever.\",\"topic\":\"movie\"},{\"id\":6730,\"text\":\"watch a team of bomb disposal experts in Iraq count down their time before they can go home.That in itself sounds boring. Every time that little caption came up telling us how long they had left, it just caused this film with no plot to drag on and on. hurry up and finish your time there so we can all go home.I must be missing something. Im a great fan of war films if they are done well. This had jarhead syndrome. A film that at times was beautifully shot, but cinematography doesnt stop it from being totally dull and pointless.And get over the slow mo cartridges coming out of the gun shot already. they could have saved money and just got stock footage from any other film with a gun in it.I didnt have any empathy for the main guy in it, i was constantly hoping that his recklessness would cause him to die. In fact the film would have worked much better if he had.I read some reviews and seemed to get the feeling that those who had been in the armed forces disliked it, and everyone else loved it. I have never been in the forces, and Im with them. Its pretentious drivel. the 3 stars are for the cinematography.\",\"topic\":\"movie\"},{\"id\":1220,\"text\":\"Blair joins school sailing trip\\\\n\\\\nThe prime minister has donned a life jacket and joined school children in a sailing dinghy as he sought to sell his partys education policies.\\\\n\\\\nTony Blair sailed across the lake in Bromsgrove, Worcestershire, while on a visit with Education Secretary Ruth Kelly to back school outings. Mr Blair later stressed Labours election pledge to focus on education, when he met parents in the area. The Conservatives and Lib Dems both say his pledges are worthless. All the parties are stepping up campaigning ahead of a General Election widely expected to be held on 5 May. Mr Blair, looking a little windswept, joined two girls from St Egwins Middle School in Evesham and an instructor for a trip in the Wayfarer dinghy, closely followed by a boat full of photographers.\\\\n\\\\nAfterwards he said outdoor activities were beneficial for children but accepted that lots of teachers now worried about taking part for fear of being sued if something went wrong. What were doing is introducing some simple guidelines so if teachers follow those they are not going to be at risk of legal action, Mr Blair said. When you are doing these types of activities youve got to exercise some common sense there obviously. You cant have a situation where parents or teachers end up being worried that theyre going to be subject to all sorts of legal action if they take children sailing or doing outdoor activity that is actually good for the kids and good for their health and their character.\\\\n\\\\nThe pledge on education - your child achieving more - was one of six election pledges unveiled by Mr Blair last week. If it wins a third term in the general election expected this year, Labour is committed to giving parents more choice between schools; allowing all secondary schools to take on specialist status; opening 200 city academies and creating 100,000 more sixth-form places. It aims to improve discipline in schools by adopting a zero tolerance approach to disruption of classes and introducing fixed penalty notices for truants. Labour also plans to give head teachers at groups of local schools control over funding for units to handle disruptive pupils.\\\\n\\\\nParents and teachers who met Mr Blair on Tuesday were invited to the informal discussion after writing to their MPs to raise concerns about education. It is the latest in a series of events designed to show the prime minister is speaking directly to voters in the run-up to the election - and that he has not lost touch. For the Conservatives, shadow education secretary Tim Collins said: Mr Blair&#191;s government is all talk. He must be judged on what he has done in two terms, not what he mendaciously claims he would do in a third. That judgment will be damning. The Liberal Democrats are promising to cut class sizes for the youngest children and ensure all children are taught by a qualified teacher in each subject.\\\\n\",\"topic\":\"politics\"}]}'"
      ]
     },
     "execution_count": 16,
     "metadata": {},
     "output_type": "execute_result"
    }
   ],
   "source": [
    "recommended_posts(id, time)"
   ]
  },
  {
   "cell_type": "code",
   "execution_count": 122,
   "metadata": {},
   "outputs": [],
   "source": [
    "def recommended_posts(\n",
    "        id: int,\n",
    "        time: datetime,\n",
    "        limit: int = 5):\n",
    "\n",
    "    # Признаки пользователя\n",
    "    logger.info(f\"user_id: {id}\")\n",
    "    logger.info(\"reading feachures\")\n",
    "    user_feachures = feachures[2].loc[feachures[2][\"user_id\"] == id].copy()\n",
    "    user_feachures.drop('user_id', axis=1, inplace=True)\n",
    "\n",
    "    # Признаки постов\n",
    "    logger.info(\"dropping columns\")\n",
    "    post_feachures = feachures[1].drop([\"index\", \"text\"], axis=1)\n",
    "    content = feachures[1][[\"post_id\", \"text\", \"topic\"]]\n",
    "\n",
    "    # Объединение признаков\n",
    "    logger.info(\"zipping everything\")\n",
    "    request_data = pd.merge(\n",
    "        user_feachures, post_feachures, how='cross')\n",
    "    request_data = request_data.set_index(\"post_id\")\n",
    "\n",
    "    # Добавление даты\n",
    "    logger.info(\"adding time info\")\n",
    "    request_data['weekday'] = time.weekday()\n",
    "    request_data['hour'] = time.hour\n",
    "\n",
    "\n",
    "    # Предсказание вероятности для 1 класса (вероятнее всего понравится)\n",
    "    logger.info(\"predicting\")\n",
    "    probabilities = model.predict_proba(request_data)[:, 1]\n",
    "    request_data['prediction'] = probabilities\n",
    "\n",
    "    # Убираем посты, где пользователь уже поставил \"like\"\n",
    "    logger.info(\"deleting liked posts\")\n",
    "    liked_posts = feachures[0]\n",
    "    liked_posts = liked_posts[liked_posts[\"user_id\"] == id][\"post_id\"].values\n",
    "    filtered_ = request_data[~request_data.index.isin(liked_posts)]\n",
    "\n",
    "    # Получение топ-5 индексов вероятностей\n",
    "    recommended_posts = filtered_.sort_values(\"prediction\")[-limit:].index\n",
    "    response = content.iloc[recommended_posts].copy()\n",
    "\n",
    "    # Форматирование выдачи согласно шаблону\n",
    "    response.rename(columns={'post_id': 'id'}, inplace=True)\n",
    "    result_list = response.to_dict(orient='records')\n",
    "\n",
    "    return result_list"
   ]
  },
  {
   "cell_type": "code",
   "execution_count": 123,
   "metadata": {},
   "outputs": [
    {
     "name": "stderr",
     "output_type": "stream",
     "text": [
      "\u001b[32m2024-04-16 18:09:42.033\u001b[0m | \u001b[1mINFO    \u001b[0m | \u001b[36m__main__\u001b[0m:\u001b[36mrecommended_posts\u001b[0m:\u001b[36m7\u001b[0m - \u001b[1muser_id: 200\u001b[0m\n",
      "\u001b[32m2024-04-16 18:09:42.034\u001b[0m | \u001b[1mINFO    \u001b[0m | \u001b[36m__main__\u001b[0m:\u001b[36mrecommended_posts\u001b[0m:\u001b[36m8\u001b[0m - \u001b[1mreading feachures\u001b[0m\n"
     ]
    },
    {
     "ename": "IndexError",
     "evalue": "list index out of range",
     "output_type": "error",
     "traceback": [
      "\u001b[0;31m---------------------------------------------------------------------------\u001b[0m",
      "\u001b[0;31mIndexError\u001b[0m                                Traceback (most recent call last)",
      "Cell \u001b[0;32mIn[123], line 1\u001b[0m\n\u001b[0;32m----> 1\u001b[0m \u001b[43mrecommended_posts\u001b[49m\u001b[43m(\u001b[49m\u001b[38;5;28;43mid\u001b[39;49m\u001b[43m,\u001b[49m\u001b[43m \u001b[49m\u001b[43mtime\u001b[49m\u001b[43m)\u001b[49m\n",
      "Cell \u001b[0;32mIn[122], line 9\u001b[0m, in \u001b[0;36mrecommended_posts\u001b[0;34m(id, time, limit)\u001b[0m\n\u001b[1;32m      7\u001b[0m logger\u001b[38;5;241m.\u001b[39minfo(\u001b[38;5;124mf\u001b[39m\u001b[38;5;124m\"\u001b[39m\u001b[38;5;124muser_id: \u001b[39m\u001b[38;5;132;01m{\u001b[39;00m\u001b[38;5;28mid\u001b[39m\u001b[38;5;132;01m}\u001b[39;00m\u001b[38;5;124m\"\u001b[39m)\n\u001b[1;32m      8\u001b[0m logger\u001b[38;5;241m.\u001b[39minfo(\u001b[38;5;124m\"\u001b[39m\u001b[38;5;124mreading feachures\u001b[39m\u001b[38;5;124m\"\u001b[39m)\n\u001b[0;32m----> 9\u001b[0m user_feachures \u001b[38;5;241m=\u001b[39m \u001b[43mfeachures\u001b[49m\u001b[43m[\u001b[49m\u001b[38;5;241;43m2\u001b[39;49m\u001b[43m]\u001b[49m\u001b[38;5;241m.\u001b[39mloc[feachures[\u001b[38;5;241m2\u001b[39m][\u001b[38;5;124m\"\u001b[39m\u001b[38;5;124muser_id\u001b[39m\u001b[38;5;124m\"\u001b[39m] \u001b[38;5;241m==\u001b[39m \u001b[38;5;28mid\u001b[39m]\u001b[38;5;241m.\u001b[39mcopy()\n\u001b[1;32m     10\u001b[0m user_feachures\u001b[38;5;241m.\u001b[39mdrop(\u001b[38;5;124m'\u001b[39m\u001b[38;5;124muser_id\u001b[39m\u001b[38;5;124m'\u001b[39m, axis\u001b[38;5;241m=\u001b[39m\u001b[38;5;241m1\u001b[39m, inplace\u001b[38;5;241m=\u001b[39m\u001b[38;5;28;01mTrue\u001b[39;00m)\n\u001b[1;32m     12\u001b[0m \u001b[38;5;66;03m# Признаки постов\u001b[39;00m\n",
      "\u001b[0;31mIndexError\u001b[0m: list index out of range"
     ]
    }
   ],
   "source": [
    "recommended_posts(id, time)"
   ]
  }
 ],
 "metadata": {
  "kernelspec": {
   "display_name": "ml",
   "language": "python",
   "name": "python3"
  },
  "language_info": {
   "codemirror_mode": {
    "name": "ipython",
    "version": 3
   },
   "file_extension": ".py",
   "mimetype": "text/x-python",
   "name": "python",
   "nbconvert_exporter": "python",
   "pygments_lexer": "ipython3",
   "version": "3.11.7"
  }
 },
 "nbformat": 4,
 "nbformat_minor": 2
}
